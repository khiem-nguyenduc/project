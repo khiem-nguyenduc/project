{
 "cells": [
  {
   "cell_type": "code",
   "execution_count": 1,
   "id": "f917964b",
   "metadata": {},
   "outputs": [],
   "source": [
    "import cv2\n",
    "import numpy as np"
   ]
  },
  {
   "cell_type": "code",
   "execution_count": 6,
   "id": "fadb9ae6",
   "metadata": {
    "tags": []
   },
   "outputs": [],
   "source": [
    "net = cv2.dnn.readNetFromCaffe(\n",
    "    './models/deploy.prototxt.txt',\n",
    "    './models/res10_300x300_ssd_iter_140000_fp16.caffemodel'\n",
    ")\n",
    "\n",
    "cap = cv2.VideoCapture(0)\n",
    "\n",
    "while True:\n",
    "    ret, frame = cap.read()\n",
    "    if not ret:\n",
    "        break\n",
    "    \n",
    "    blob = cv2.dnn.blobFromImage(frame, 1.0, (300, 300), (150, 150, 150), swapRB = False)\n",
    "    net.setInput(blob)\n",
    "\n",
    "    faces = net.forward()\n",
    "\n",
    "    h = frame.shape[0]\n",
    "    w = frame.shape[1]\n",
    "\n",
    "    for i in range(0, faces.shape[2]):\n",
    "        confidence = faces[0, 0 , i , 2]\n",
    "        if confidence > 0.3:\n",
    "            x1 = int(faces[0, 0 , i, 3]*w)\n",
    "            y1 = int(faces[0, 0 , i, 4]*h)\n",
    "            x2 =  int(faces[0, 0 , i, 5]*w)\n",
    "            y2 = int(faces[0, 0 , i, 6]*h)\n",
    "            \n",
    "            cv2.rectangle(frame, (x1, y1), (x2, y2), (0, 255, 255), )\n",
    "\n",
    "            # hiển thị độ tin cậy\n",
    "            text = 'Camera: {:.2f}%'.format(confidence*100)\n",
    "            cv2.putText(frame, text, (x1, y1 - 10), cv2.FONT_HERSHEY_PLAIN, 1, (255, 255, 255), 2)\n",
    "    cv2.imshow('ket qua', frame)\n",
    "    if(cv2.waitKey(1) == ord('q')):\n",
    "        break\n",
    "        \n",
    "cap.release()\n",
    "cv2.destroyAllWindows()"
   ]
  },
  {
   "cell_type": "code",
   "execution_count": null,
   "id": "ae171c8d",
   "metadata": {},
   "outputs": [],
   "source": []
  }
 ],
 "metadata": {
  "kernelspec": {
   "display_name": "Python 3 (ipykernel)",
   "language": "python",
   "name": "python3"
  },
  "language_info": {
   "codemirror_mode": {
    "name": "ipython",
    "version": 3
   },
   "file_extension": ".py",
   "mimetype": "text/x-python",
   "name": "python",
   "nbconvert_exporter": "python",
   "pygments_lexer": "ipython3",
   "version": "3.11.5"
  }
 },
 "nbformat": 4,
 "nbformat_minor": 5
}
