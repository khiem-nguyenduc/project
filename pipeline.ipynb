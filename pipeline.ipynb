{
 "cells": [
  {
   "cell_type": "code",
   "execution_count": 19,
   "metadata": {},
   "outputs": [],
   "source": [
    "# Import các thư viện cần thiết\n",
    "import numpy as np\n",
    "import cv2\n",
    "import pandas as pd\n",
    "import os\n",
    "import pickle\n",
    "from tools import *"
   ]
  },
  {
   "cell_type": "code",
   "execution_count": 20,
   "metadata": {},
   "outputs": [
    {
     "data": {
      "text/plain": [
       "['data',\n",
       " 'data_preprocessing.ipynb',\n",
       " 'faces',\n",
       " 'models',\n",
       " 'pipline.ipynb',\n",
       " 'tools.py',\n",
       " 'traning_data.ipynb',\n",
       " '__pycache__']"
      ]
     },
     "execution_count": 20,
     "metadata": {},
     "output_type": "execute_result"
    }
   ],
   "source": [
    "path = \"D:/workspace/OpenCV/\"\n",
    "# hiển thị tất cả thư mục hoặc file\n",
    "os.listdir(path)"
   ]
  },
  {
   "cell_type": "code",
   "execution_count": 21,
   "metadata": {},
   "outputs": [],
   "source": [
    "def pipeline_model(path):\n",
    "    # Face detection model\n",
    "    faceDetectionModel = './models/res10_300x300_ssd_iter_140000_fp16.caffemodel';\n",
    "\n",
    "    # Mô tả kiến trúc\n",
    "    faceDetectionProto = './models/deploy.prototxt.txt'\n",
    "\n",
    "    # Mô hình mô tả khuôn mặt\n",
    "    faceDescriptor = './models/openface.nn4.small2.v1.t7'\n",
    "\n",
    "    # Sử dụng OpenCV DNN đọc mô hìn nhận diện khuôn mặt\n",
    "    dectectorModel = cv2.dnn.readNetFromCaffe(faceDetectionProto, faceDetectionModel)\n",
    "\n",
    "    # Đọc mô hình mô tả khuôn mặt từ file Torch\n",
    "    descriptorModel = cv2.dnn.readNetFromTorch(faceDescriptor)\n",
    "\n",
    "    # face recognition\n",
    "    face_recognition_model = pickle.load(open('./data/ml_face_person_identity.pkl', mode='rb'))\n",
    "    # pipeline model\n",
    "    img = cv2.imread(path)\n",
    "    image = img.copy()\n",
    "    h,w = img.shape[:2]\n",
    "    # face detection\n",
    "    img_blob = cv2.dnn.blobFromImage(img,1,(300,300),(104,177,123),swapRB=False,crop=False)\n",
    "    # Thiết lập đầu vào cho mô hình\n",
    "    dectectorModel.setInput(img_blob)\n",
    "    # Thực hiện việc nhận diện khuôn mặt\n",
    "    detections = dectectorModel.forward()\n",
    "\n",
    "    # machcine results\n",
    "    machinlearning_results = dict(face_detect_score = [],\n",
    "                                 face_name = [],\n",
    "                                 face_name_score = [],\n",
    "                                 count = [])\n",
    "    count = 1\n",
    "    if len(detections) > 0:\n",
    "        for i , confidence in enumerate(detections[0,0,:,2]):\n",
    "            if confidence > 0.5:\n",
    "                box = detections[0,0,i,3:7]*np.array([w,h,w,h])\n",
    "                startx,starty,endx,endy = box.astype(int)\n",
    "\n",
    "                cv2.rectangle(image,(startx,starty),(endx,endy),(0,255,0))\n",
    "\n",
    "                # feature extraction\n",
    "                face_roi = img[starty:endy,startx:endx]\n",
    "                face_blob = cv2.dnn.blobFromImage(face_roi,1/255,(96,96),(0,0,0),swapRB=True,crop=True)\n",
    "                descriptorModel.setInput(face_blob)\n",
    "                vectors = descriptorModel.forward()\n",
    "\n",
    "                # predict with machine learning\n",
    "                face_name = face_recognition_model.predict(vectors)[0]\n",
    "                face_score = face_recognition_model.predict_proba(vectors).max()\n",
    "\n",
    "                text_face = '{} : {:.0f} %'.format(face_name,100*face_score)\n",
    "                cv2.putText(image,text_face,(startx,starty),cv2.FONT_HERSHEY_PLAIN,2,(255,255,255),2)\n",
    "\n",
    "                machinlearning_results['count'].append(count)\n",
    "                machinlearning_results['face_detect_score'].append(confidence)\n",
    "                machinlearning_results['face_name'].append(face_name)\n",
    "                machinlearning_results['face_name_score'].append(face_score)\n",
    "                count += 1\n",
    "    return image, machinlearning_results"
   ]
  },
  {
   "cell_type": "code",
   "execution_count": null,
   "metadata": {},
   "outputs": [],
   "source": []
  }
 ],
 "metadata": {
  "kernelspec": {
   "display_name": "Python 3",
   "language": "python",
   "name": "python3"
  },
  "language_info": {
   "codemirror_mode": {
    "name": "ipython",
    "version": 3
   },
   "file_extension": ".py",
   "mimetype": "text/x-python",
   "name": "python",
   "nbconvert_exporter": "python",
   "pygments_lexer": "ipython3",
   "version": "3.12.1"
  }
 },
 "nbformat": 4,
 "nbformat_minor": 2
}
